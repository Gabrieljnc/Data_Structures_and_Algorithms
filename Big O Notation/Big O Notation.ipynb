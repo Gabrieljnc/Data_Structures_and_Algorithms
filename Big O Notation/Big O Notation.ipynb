{
 "cells": [
  {
   "cell_type": "markdown",
   "id": "e3a095ac",
   "metadata": {},
   "source": [
    "# Class 1"
   ]
  },
  {
   "cell_type": "markdown",
   "id": "125f2440",
   "metadata": {},
   "source": [
    "### O(n) in Big O notation"
   ]
  },
  {
   "cell_type": "markdown",
   "id": "784c00b2",
   "metadata": {},
   "source": [
    "#### How much the complexity of the algorithm increases according to the inputs"
   ]
  },
  {
   "cell_type": "code",
   "execution_count": 1,
   "id": "2e0fd8a6",
   "metadata": {},
   "outputs": [],
   "source": [
    "# 11 passos\n",
    "def soma_1(n): \n",
    "    soma = 0 # 1 passo\n",
    "    for i in range(n + 1): # 10 passos\n",
    "        soma += i\n",
    "    \n",
    "    return soma"
   ]
  },
  {
   "cell_type": "code",
   "execution_count": 9,
   "id": "ce46a57e",
   "metadata": {},
   "outputs": [
    {
     "name": "stdout",
     "output_type": "stream",
     "text": [
      "528 ns ± 1.11 ns per loop (mean ± std. dev. of 7 runs, 1000000 loops each)\n"
     ]
    }
   ],
   "source": [
    "%timeit soma_1(10)"
   ]
  },
  {
   "cell_type": "markdown",
   "id": "35da00dc",
   "metadata": {},
   "source": [
    "### O(3) in Big O notation"
   ]
  },
  {
   "cell_type": "code",
   "execution_count": 7,
   "id": "9bc7afcf",
   "metadata": {},
   "outputs": [],
   "source": [
    "def soma_2(n):\n",
    "    return (n*(n + 1)) / 2 # 3 passos"
   ]
  },
  {
   "cell_type": "code",
   "execution_count": 8,
   "id": "d1a744fa",
   "metadata": {},
   "outputs": [
    {
     "name": "stdout",
     "output_type": "stream",
     "text": [
      "103 ns ± 0.254 ns per loop (mean ± std. dev. of 7 runs, 10000000 loops each)\n"
     ]
    }
   ],
   "source": [
    "%timeit soma_2(10)"
   ]
  },
  {
   "cell_type": "markdown",
   "id": "e69d679d",
   "metadata": {},
   "source": [
    "# Class 2"
   ]
  },
  {
   "cell_type": "markdown",
   "id": "fa8ca493",
   "metadata": {},
   "source": [
    "### O(n) --> O(1000)"
   ]
  },
  {
   "cell_type": "code",
   "execution_count": 13,
   "id": "b28cab4a",
   "metadata": {},
   "outputs": [],
   "source": [
    "def lista_1():\n",
    "    lista = []\n",
    "    for i in range(1000):\n",
    "        lista += [i]\n",
    "    return lista"
   ]
  },
  {
   "cell_type": "code",
   "execution_count": 14,
   "id": "af0a8e7f",
   "metadata": {},
   "outputs": [
    {
     "name": "stdout",
     "output_type": "stream",
     "text": [
      "63.4 µs ± 292 ns per loop (mean ± std. dev. of 7 runs, 10000 loops each)\n"
     ]
    }
   ],
   "source": [
    "# Result in micro-seconds\n",
    "%timeit lista_1()"
   ]
  },
  {
   "cell_type": "markdown",
   "id": "97ab09a7",
   "metadata": {},
   "source": [
    "### Time complexity"
   ]
  },
  {
   "cell_type": "code",
   "execution_count": 22,
   "id": "ab4ded23",
   "metadata": {},
   "outputs": [],
   "source": [
    "def lista_2():\n",
    "    return range(1000)"
   ]
  },
  {
   "cell_type": "code",
   "execution_count": 25,
   "id": "d76ed4cb",
   "metadata": {
    "scrolled": true
   },
   "outputs": [
    {
     "name": "stdout",
     "output_type": "stream",
     "text": [
      "<class 'range'>\n"
     ]
    }
   ],
   "source": [
    "l = lista_2()\n",
    "print(type(l))"
   ]
  },
  {
   "cell_type": "code",
   "execution_count": 24,
   "id": "eed7c753",
   "metadata": {},
   "outputs": [
    {
     "name": "stdout",
     "output_type": "stream",
     "text": [
      "199 ns ± 0.905 ns per loop (mean ± std. dev. of 7 runs, 1000000 loops each)\n"
     ]
    }
   ],
   "source": [
    "# Result in nano-seconds\n",
    "%timeit lista_2()"
   ]
  },
  {
   "cell_type": "code",
   "execution_count": null,
   "id": "757cbfd8",
   "metadata": {},
   "outputs": [],
   "source": []
  }
 ],
 "metadata": {
  "kernelspec": {
   "display_name": "Python 3 (ipykernel)",
   "language": "python",
   "name": "python3"
  },
  "language_info": {
   "codemirror_mode": {
    "name": "ipython",
    "version": 3
   },
   "file_extension": ".py",
   "mimetype": "text/x-python",
   "name": "python",
   "nbconvert_exporter": "python",
   "pygments_lexer": "ipython3",
   "version": "3.8.8"
  }
 },
 "nbformat": 4,
 "nbformat_minor": 5
}

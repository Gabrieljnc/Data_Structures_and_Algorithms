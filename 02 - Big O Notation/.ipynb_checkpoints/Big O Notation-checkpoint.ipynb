{
 "cells": [
  {
   "cell_type": "markdown",
   "id": "e3a095ac",
   "metadata": {},
   "source": [
    "# Class 1"
   ]
  },
  {
   "cell_type": "markdown",
   "id": "125f2440",
   "metadata": {},
   "source": [
    "### O(n) in Big O notation"
   ]
  },
  {
   "cell_type": "markdown",
   "id": "784c00b2",
   "metadata": {},
   "source": [
    "#### How much the complexity of the algorithm increases according to the inputs"
   ]
  },
  {
   "cell_type": "code",
   "execution_count": 1,
   "id": "2e0fd8a6",
   "metadata": {},
   "outputs": [],
   "source": [
    "# 11 passos\n",
    "def soma_1(n): \n",
    "    soma = 0 # 1 passo\n",
    "    for i in range(n + 1): # 10 passos\n",
    "        soma += i\n",
    "    \n",
    "    return soma"
   ]
  },
  {
   "cell_type": "code",
   "execution_count": 9,
   "id": "ce46a57e",
   "metadata": {},
   "outputs": [
    {
     "name": "stdout",
     "output_type": "stream",
     "text": [
      "528 ns ± 1.11 ns per loop (mean ± std. dev. of 7 runs, 1000000 loops each)\n"
     ]
    }
   ],
   "source": [
    "%timeit soma_1(10)"
   ]
  },
  {
   "cell_type": "markdown",
   "id": "35da00dc",
   "metadata": {},
   "source": [
    "### O(3) in Big O notation"
   ]
  },
  {
   "cell_type": "code",
   "execution_count": 7,
   "id": "9bc7afcf",
   "metadata": {},
   "outputs": [],
   "source": [
    "def soma_2(n):\n",
    "    return (n*(n + 1)) / 2 # 3 passos"
   ]
  },
  {
   "cell_type": "code",
   "execution_count": 8,
   "id": "d1a744fa",
   "metadata": {},
   "outputs": [
    {
     "name": "stdout",
     "output_type": "stream",
     "text": [
      "103 ns ± 0.254 ns per loop (mean ± std. dev. of 7 runs, 10000000 loops each)\n"
     ]
    }
   ],
   "source": [
    "%timeit soma_2(10)"
   ]
  },
  {
   "cell_type": "markdown",
   "id": "e69d679d",
   "metadata": {},
   "source": [
    "# Class 2"
   ]
  },
  {
   "cell_type": "markdown",
   "id": "fa8ca493",
   "metadata": {},
   "source": [
    "### O(n) --> O(1000)"
   ]
  },
  {
   "cell_type": "code",
   "execution_count": 13,
   "id": "b28cab4a",
   "metadata": {},
   "outputs": [],
   "source": [
    "def lista_1():\n",
    "    lista = []\n",
    "    for i in range(1000):\n",
    "        lista += [i]\n",
    "    return lista"
   ]
  },
  {
   "cell_type": "code",
   "execution_count": 14,
   "id": "af0a8e7f",
   "metadata": {},
   "outputs": [
    {
     "name": "stdout",
     "output_type": "stream",
     "text": [
      "63.4 µs ± 292 ns per loop (mean ± std. dev. of 7 runs, 10000 loops each)\n"
     ]
    }
   ],
   "source": [
    "# Result in micro-seconds\n",
    "%timeit lista_1()"
   ]
  },
  {
   "cell_type": "markdown",
   "id": "97ab09a7",
   "metadata": {},
   "source": [
    "### Time complexity"
   ]
  },
  {
   "cell_type": "code",
   "execution_count": 22,
   "id": "ab4ded23",
   "metadata": {},
   "outputs": [],
   "source": [
    "def lista_2():\n",
    "    return range(1000)"
   ]
  },
  {
   "cell_type": "code",
   "execution_count": 25,
   "id": "d76ed4cb",
   "metadata": {
    "scrolled": true
   },
   "outputs": [
    {
     "name": "stdout",
     "output_type": "stream",
     "text": [
      "<class 'range'>\n"
     ]
    }
   ],
   "source": [
    "l = lista_2()\n",
    "print(type(l))"
   ]
  },
  {
   "cell_type": "code",
   "execution_count": 24,
   "id": "eed7c753",
   "metadata": {},
   "outputs": [
    {
     "name": "stdout",
     "output_type": "stream",
     "text": [
      "199 ns ± 0.905 ns per loop (mean ± std. dev. of 7 runs, 1000000 loops each)\n"
     ]
    }
   ],
   "source": [
    "# Result in nano-seconds\n",
    "%timeit lista_2()"
   ]
  },
  {
   "cell_type": "markdown",
   "id": "1085cd59",
   "metadata": {},
   "source": [
    "# Class 3"
   ]
  },
  {
   "cell_type": "code",
   "execution_count": 1,
   "id": "50911e7b",
   "metadata": {},
   "outputs": [],
   "source": [
    "from math import log\n",
    "import numpy as np\n",
    "import matplotlib.pyplot as plt"
   ]
  },
  {
   "cell_type": "code",
   "execution_count": 2,
   "id": "00713edd",
   "metadata": {},
   "outputs": [],
   "source": [
    "# 100 spaced numbers between 1 and 10\n",
    "n = np.linspace(1,10,100)"
   ]
  },
  {
   "cell_type": "code",
   "execution_count": 3,
   "id": "264a83b6",
   "metadata": {},
   "outputs": [],
   "source": [
    "labels = [\"Constant\", \"Logarithmic\", \"Linear\", \"Log Linear\",\"Quadratic\", \"Cubic\", \"Exponential\"]\n",
    "big_o = [np.ones(n.shape), np.log(n), n, n * np.log(n), n**2, n**3, 2**n]"
   ]
  },
  {
   "cell_type": "code",
   "execution_count": 4,
   "id": "32e38b4a",
   "metadata": {},
   "outputs": [
    {
     "data": {
      "text/plain": [
       "7"
      ]
     },
     "execution_count": 4,
     "metadata": {},
     "output_type": "execute_result"
    }
   ],
   "source": [
    "len(big_o)"
   ]
  },
  {
   "cell_type": "code",
   "execution_count": 6,
   "id": "23979ee3",
   "metadata": {},
   "outputs": [
    {
     "data": {
      "text/plain": [
       "Text(0.5, 0, 'n')"
      ]
     },
     "execution_count": 6,
     "metadata": {},
     "output_type": "execute_result"
    },
    {
     "data": {
      "image/png": "[encoded data removed]",
      "text/plain": [
       "<Figure size 720x576 with 1 Axes>"
      ]
     },
     "metadata": {
      "needs_background": "light"
     },
     "output_type": "display_data"
    }
   ],
   "source": [
    "plt.figure(figsize=(10,8))\n",
    "plt.ylim(0,100)\n",
    "\n",
    "for i in range(len(big_o)):\n",
    "    plt.plot(n, big_o[i], label=labels[i]) \n",
    "    \n",
    "plt.legend()\n",
    "plt.ylabel(\"Run time\")\n",
    "plt.xlabel(\"n\")"
   ]
  },
  {
   "cell_type": "markdown",
   "id": "5bcfa869",
   "metadata": {},
   "source": [
    "# Class 4"
   ]
  },
  {
   "cell_type": "markdown",
   "id": "53f44a9e",
   "metadata": {},
   "source": [
    "### Constant O(1)"
   ]
  },
  {
   "cell_type": "code",
   "execution_count": 7,
   "id": "2099e2ae",
   "metadata": {},
   "outputs": [],
   "source": [
    "lista = [1, 2, 3, 4, 5]"
   ]
  },
  {
   "cell_type": "code",
   "execution_count": null,
   "id": "9cc2042b",
   "metadata": {},
   "outputs": [],
   "source": [
    "# If you increase the data in list the big O notation will not change.\n",
    "def constant(n):\n",
    "    print(n[0])"
   ]
  },
  {
   "cell_type": "markdown",
   "id": "587e198b",
   "metadata": {},
   "source": [
    "### Linear O(n)"
   ]
  },
  {
   "cell_type": "code",
   "execution_count": 8,
   "id": "e2d1d769",
   "metadata": {},
   "outputs": [],
   "source": [
    "# Depend of the n value\n",
    "def linear(n):\n",
    "    for i in n:\n",
    "        print(i)"
   ]
  },
  {
   "cell_type": "markdown",
   "id": "7a14d537",
   "metadata": {},
   "source": [
    "### Quadratic O(nˆ2) - Polynomial"
   ]
  },
  {
   "cell_type": "code",
   "execution_count": 9,
   "id": "e778e95b",
   "metadata": {},
   "outputs": [],
   "source": [
    "def quadratic(n):\n",
    "    for i in n:\n",
    "        for j in n:\n",
    "            print(i,j)\n",
    "        print(\"---\")"
   ]
  },
  {
   "cell_type": "code",
   "execution_count": 11,
   "id": "4be3d8a8",
   "metadata": {
    "scrolled": false
   },
   "outputs": [
    {
     "name": "stdout",
     "output_type": "stream",
     "text": [
      "1 1\n",
      "1 2\n",
      "1 3\n",
      "1 4\n",
      "1 5\n",
      "---\n",
      "2 1\n",
      "2 2\n",
      "2 3\n",
      "2 4\n",
      "2 5\n",
      "---\n",
      "3 1\n",
      "3 2\n",
      "3 3\n",
      "3 4\n",
      "3 5\n",
      "---\n",
      "4 1\n",
      "4 2\n",
      "4 3\n",
      "4 4\n",
      "4 5\n",
      "---\n",
      "5 1\n",
      "5 2\n",
      "5 3\n",
      "5 4\n",
      "5 5\n",
      "---\n"
     ]
    }
   ],
   "source": [
    "quadratic(lista)"
   ]
  },
  {
   "cell_type": "markdown",
   "id": "65dd1660",
   "metadata": {},
   "source": [
    "### Combination "
   ]
  },
  {
   "cell_type": "code",
   "execution_count": 12,
   "id": "7ce5c91c",
   "metadata": {},
   "outputs": [],
   "source": [
    "# Big O Total = # O(1) + # O(5) + # O(3) + # O(n) + # O(n)           \n",
    "                # O(9) + O(2n) ----> O(n)   \n",
    "                \n",
    "def combination(n):\n",
    "    \n",
    "    # O(1)\n",
    "    print(n[0])\n",
    "    \n",
    "    # O(5)\n",
    "    for i in range(5):\n",
    "        print(\"teste\",i)\n",
    "        \n",
    "    # O(n)    \n",
    "    for i in n:\n",
    "        print(i)\n",
    "        \n",
    "    # O(n)       \n",
    "    for i in n:\n",
    "        print(\"Python\")\n",
    "        \n",
    "    # O(3)   \n",
    "    print(\"Hello Word\")\n",
    "    print(\"Hello Word\")\n",
    "    print(\"Hello Word\")\n",
    "    \n",
    "    "
   ]
  },
  {
   "cell_type": "code",
   "execution_count": 13,
   "id": "71805221",
   "metadata": {},
   "outputs": [
    {
     "name": "stdout",
     "output_type": "stream",
     "text": [
      "1\n",
      "teste 0\n",
      "teste 1\n",
      "teste 2\n",
      "teste 3\n",
      "teste 4\n",
      "1\n",
      "2\n",
      "3\n",
      "4\n",
      "5\n",
      "Python\n",
      "Python\n",
      "Python\n",
      "Python\n",
      "Python\n",
      "Hello Word\n",
      "Hello Word\n",
      "Hello Word\n"
     ]
    }
   ],
   "source": [
    "combination(lista)"
   ]
  }
 ],
 "metadata": {
  "kernelspec": {
   "display_name": "Python 3 (ipykernel)",
   "language": "python",
   "name": "python3"
  },
  "language_info": {
   "codemirror_mode": {
    "name": "ipython",
    "version": 3
   },
   "file_extension": ".py",
   "mimetype": "text/x-python",
   "name": "python",
   "nbconvert_exporter": "python",
   "pygments_lexer": "ipython3",
   "version": "3.8.8"
  }
 },
 "nbformat": 4,
 "nbformat_minor": 5
}

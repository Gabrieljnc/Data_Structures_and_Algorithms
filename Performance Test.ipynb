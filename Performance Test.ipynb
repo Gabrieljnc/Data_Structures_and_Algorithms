{
 "cells": [
  {
   "cell_type": "code",
   "execution_count": 1,
   "id": "e2680804",
   "metadata": {},
   "outputs": [],
   "source": [
    "import numpy as np\n",
    "import random"
   ]
  },
  {
   "cell_type": "code",
   "execution_count": 2,
   "id": "e4a56d2b",
   "metadata": {},
   "outputs": [],
   "source": [
    "class Vetor_nao_Ordenado:\n",
    "    def __init__(self, capacidade):\n",
    "        self.capacidade = capacidade # Capacidade suportada pelo Vetor \n",
    "        self.ultima_posicao = -1     # Variavel que controla a última posição do vetor\n",
    "        self.vetor = np.empty(self.capacidade, dtype= float) # Criação do vetor vazio\n",
    "\n",
    "# Função Mostrar valores\n",
    "    def Imprime(self):\n",
    "        if self.ultima_posicao == -1: \n",
    "            print(\"Vetor está vazio\")\n",
    "        else:\n",
    "            for i in range(self.ultima_posicao + 1): # Percorre todos elementos do vetor \n",
    "                print(i, \"---\", self.vetor[i]) # Printa o index e o elemento correspondente no vetor\n",
    "\n",
    "\n",
    "# Função Inserir\n",
    "    def Inserir(self, valor):\n",
    "        if self.ultima_posicao == self.capacidade - 1: # Ex: capacidade = 5 tem como ultima posição 4, pois a posição começa a partir do 0\n",
    "            print(\"O vetor está cheio\")\n",
    "        else:\n",
    "            self.ultima_posicao += 1 # Incrementa posição para representar o index do valor e mudar o novo elemento na ultima posição\n",
    "            self.vetor[self.ultima_posicao] = valor # Index do vetor [representado pela variável ultima posicao] = valor escolhido pelo usuário\n",
    "\n",
    "# Função Pesquisar\n",
    "    def Pesquisar(self, valor):\n",
    "        for i in range(self.ultima_posicao + 1): # Percorre os elementos do vetor \n",
    "            if valor == self.vetor[i]: # Se o valor procurado for igual ao valor no vetor\n",
    "                return i # Retorna o index correspondente do valor\n",
    "        return -1 # Retorna -1 caso não encontre o valor \n",
    "\n",
    "# Função Remover\n",
    "    def Remover(self, valor):\n",
    "        posicao = self.Pesquisar(valor) # Realiza a pesquisa pra ver se o valor está no vetor\n",
    "        if posicao == -1: # -1 retorno da função pesquisar\n",
    "            return -1\n",
    "        else:\n",
    "            for i in range(posicao, self.ultima_posicao): # Percorre da posição do elemento encontrado até a ultima posição\n",
    "                self.vetor[i] = self.vetor[i + 1] # Antiga posição --> Nova posição (Remanejamento de posição dos elementos)\n",
    "\n",
    "            self.ultima_posicao -= 1"
   ]
  },
  {
   "cell_type": "code",
   "execution_count": 3,
   "id": "f66ed52a",
   "metadata": {},
   "outputs": [],
   "source": [
    "class Vetor_Ordenado:\n",
    "    def __init__(self, capacidade):\n",
    "        self.capacidade = capacidade\n",
    "        self.ultima_posicao = -1\n",
    "        self.vetor = np.empty(self.capacidade, dtype= float)\n",
    "\n",
    "    def Imprimir(self):\n",
    "        if self.ultima_posicao == -1:\n",
    "            print(\"Vetor está vazio\") \n",
    "        else:\n",
    "            for i in range(self.ultima_posicao + 1):\n",
    "                print(i, \"-\", self.vetor[i])\n",
    "\n",
    "    def Inserir(self,valor_a_inserir):\n",
    "        if self.ultima_posicao == self.capacidade -1:\n",
    "            print(\"O vetor está cheio\")\n",
    "            return\n",
    "\n",
    "        posicao = 0\n",
    "\n",
    "        for i in range(self.ultima_posicao + 1):\n",
    "            posicao = i\n",
    "            if self.vetor[i] > valor_a_inserir:\n",
    "                break\n",
    "            if i == self.ultima_posicao:\n",
    "                posicao = i + 1\n",
    "\n",
    "        ultima_posicao = self.ultima_posicao\n",
    "\n",
    "        while ultima_posicao >= posicao:\n",
    "            self.vetor[ultima_posicao + 1] = self.vetor[ultima_posicao]\n",
    "            ultima_posicao -= 1\n",
    "\n",
    "        self.vetor[posicao] = valor_a_inserir\n",
    "        self.ultima_posicao += 1\n",
    "        \n",
    "    def Pesquisa_linear(self,valor_a_pesquisar):\n",
    "        for i in range(self.ultima_posicao + 1):\n",
    "            if self.vetor[i] == valor_a_pesquisar: # Se encontrar\n",
    "                return i\n",
    "            \n",
    "            if self.vetor[i] > valor_a_pesquisar: # Se não encontrar\n",
    "                return -1\n",
    "        \n",
    "            if i == self.ultima_posicao: # Se o valor_a_pesquisar for o maior numero\n",
    "                return -1\n",
    "            \n",
    "    def Pesquisa_Binaria(self, valor_a_pesquisar):\n",
    "        limite_inferior = 0 # Define o limite inferior\n",
    "        limite_superior = self.ultima_posicao # Define o limite superior\n",
    "        \n",
    "        cont = 0\n",
    "        while True:\n",
    "            posicao_atual = int((limite_inferior + limite_superior) / 2) # Define a metade do vetor para selecionar a posicao\n",
    "            \n",
    "            if self.vetor[posicao_atual] == valor_a_pesquisar: # se encontrar na primeira tentativa\n",
    "                return posicao_atual\n",
    "            \n",
    "            elif limite_inferior > limite_superior: # se não encontrar\n",
    "                return -1\n",
    "            \n",
    "            else:\n",
    "                if self.vetor[posicao_atual] < valor_a_pesquisar: # o número está a direita\n",
    "                    limite_inferior = posicao_atual + 1\n",
    "                else:\n",
    "                    limite_superior = posicao_atual - 1 # o número está a esquerda\n",
    "            cont += 1\n",
    "    def Excluir(self, valor_a_excluir):\n",
    "        posicao = self.Pesquisa_linear(valor_a_excluir)\n",
    "\n",
    "        if posicao == -1:\n",
    "            return -1\n",
    "        else:\n",
    "            for i in range(posicao, self.ultima_posicao):\n",
    "                self.vetor[i] = self.vetor[i + 1]\n",
    "\n",
    "            self.ultima_posicao -= 1\n"
   ]
  },
  {
   "cell_type": "markdown",
   "id": "22ab0969",
   "metadata": {},
   "source": [
    "## Inserção"
   ]
  },
  {
   "cell_type": "code",
   "execution_count": 4,
   "id": "8e99ac98",
   "metadata": {},
   "outputs": [],
   "source": [
    "elementos = []\n",
    "for _ in range(10000):\n",
    "    elementos.append(round(random.random(),4))"
   ]
  },
  {
   "cell_type": "code",
   "execution_count": 5,
   "id": "b9e75c20",
   "metadata": {},
   "outputs": [
    {
     "data": {
      "text/plain": [
       "10000"
      ]
     },
     "execution_count": 5,
     "metadata": {},
     "output_type": "execute_result"
    }
   ],
   "source": [
    "len(elementos)"
   ]
  },
  {
   "cell_type": "code",
   "execution_count": 6,
   "id": "824d76b8",
   "metadata": {},
   "outputs": [],
   "source": [
    "def insere_nao_ordenado(lista):\n",
    "    vetor = Vetor_nao_Ordenado(len(lista))\n",
    "    for i in lista:\n",
    "        vetor.Inserir(i) \n",
    "    return vetor"
   ]
  },
  {
   "cell_type": "code",
   "execution_count": 7,
   "id": "133f7430",
   "metadata": {},
   "outputs": [
    {
     "name": "stdout",
     "output_type": "stream",
     "text": [
      "3.33 ms ± 9.97 µs per loop (mean ± std. dev. of 7 runs, 100 loops each)\n"
     ]
    }
   ],
   "source": [
    "%timeit insere_nao_ordenado(elementos)"
   ]
  },
  {
   "cell_type": "code",
   "execution_count": 8,
   "id": "41af1212",
   "metadata": {},
   "outputs": [],
   "source": [
    "def insere_ordenado(lista):\n",
    "    vetor = Vetor_Ordenado(len(lista))\n",
    "    for i in lista:\n",
    "        vetor.Inserir(i) \n",
    "    return vetor"
   ]
  },
  {
   "cell_type": "code",
   "execution_count": 9,
   "id": "b1f63e80",
   "metadata": {},
   "outputs": [
    {
     "name": "stdout",
     "output_type": "stream",
     "text": [
      "10.9 s ± 38.3 ms per loop (mean ± std. dev. of 7 runs, 1 loop each)\n"
     ]
    }
   ],
   "source": [
    "%timeit insere_ordenado(elementos)"
   ]
  },
  {
   "cell_type": "markdown",
   "id": "e100311f",
   "metadata": {},
   "source": [
    "### Pode-se percebe que o algoritmo de vetor não ordenado é mais rápido que o algoritmo de vetor ordenado, isso acontece pelo fato que no algoritmo de vetor não ordenado a inserção é realizada na última posição, enquanto que no vetor ordenado deve-se realizar a pesquisa com o \"for\" para saber qual posição inserir o elemento."
   ]
  },
  {
   "cell_type": "markdown",
   "id": "8eaabee1",
   "metadata": {},
   "source": [
    "## Pesquisa"
   ]
  },
  {
   "cell_type": "code",
   "execution_count": 10,
   "id": "2c668c1d",
   "metadata": {},
   "outputs": [],
   "source": [
    "vetor_nao_ordenado = insere_nao_ordenado(elementos)"
   ]
  },
  {
   "cell_type": "code",
   "execution_count": 11,
   "id": "472ef088",
   "metadata": {},
   "outputs": [
    {
     "data": {
      "text/plain": [
       "10000"
      ]
     },
     "execution_count": 11,
     "metadata": {},
     "output_type": "execute_result"
    }
   ],
   "source": [
    "len(vetor_nao_ordenado.vetor)"
   ]
  },
  {
   "cell_type": "code",
   "execution_count": 12,
   "id": "92e445af",
   "metadata": {},
   "outputs": [],
   "source": [
    "vetor_ordenado = insere_ordenado(elementos)"
   ]
  },
  {
   "cell_type": "code",
   "execution_count": 13,
   "id": "07fadf27",
   "metadata": {},
   "outputs": [
    {
     "data": {
      "text/plain": [
       "10000"
      ]
     },
     "execution_count": 13,
     "metadata": {},
     "output_type": "execute_result"
    }
   ],
   "source": [
    "len(vetor_ordenado.vetor)"
   ]
  },
  {
   "cell_type": "code",
   "execution_count": 14,
   "id": "28734432",
   "metadata": {},
   "outputs": [
    {
     "data": {
      "text/plain": [
       "10000"
      ]
     },
     "execution_count": 14,
     "metadata": {},
     "output_type": "execute_result"
    }
   ],
   "source": [
    "pesquisa = []\n",
    "\n",
    "for i in range(10000):\n",
    "    pesquisa.append(round(random.random(),4))\n",
    "len(pesquisa)"
   ]
  },
  {
   "cell_type": "code",
   "execution_count": 15,
   "id": "e4f7e6bc",
   "metadata": {},
   "outputs": [],
   "source": [
    "def pesquisa_nao_ordenado(lista):\n",
    "    for i in lista:\n",
    "        vetor_nao_ordenado.Pesquisar(i)"
   ]
  },
  {
   "cell_type": "code",
   "execution_count": 16,
   "id": "874995d3",
   "metadata": {},
   "outputs": [
    {
     "name": "stdout",
     "output_type": "stream",
     "text": [
      "11 s ± 148 ms per loop (mean ± std. dev. of 7 runs, 1 loop each)\n"
     ]
    }
   ],
   "source": [
    "%timeit pesquisa_nao_ordenado(pesquisa)"
   ]
  },
  {
   "cell_type": "code",
   "execution_count": 17,
   "id": "5ed33dd4",
   "metadata": {},
   "outputs": [],
   "source": [
    "def pesquisa_ordenado_binaria(lista):\n",
    "    for i in lista:\n",
    "        vetor_ordenado.Pesquisa_Binaria(i)"
   ]
  },
  {
   "cell_type": "code",
   "execution_count": 18,
   "id": "7670ed9a",
   "metadata": {},
   "outputs": [
    {
     "name": "stdout",
     "output_type": "stream",
     "text": [
      "61 ms ± 526 µs per loop (mean ± std. dev. of 7 runs, 10 loops each)\n"
     ]
    }
   ],
   "source": [
    "%timeit pesquisa_ordenado_binaria(pesquisa)"
   ]
  }
 ],
 "metadata": {
  "kernelspec": {
   "display_name": "Python 3 (ipykernel)",
   "language": "python",
   "name": "python3"
  },
  "language_info": {
   "codemirror_mode": {
    "name": "ipython",
    "version": 3
   },
   "file_extension": ".py",
   "mimetype": "text/x-python",
   "name": "python",
   "nbconvert_exporter": "python",
   "pygments_lexer": "ipython3",
   "version": "3.9.7"
  }
 },
 "nbformat": 4,
 "nbformat_minor": 5
}

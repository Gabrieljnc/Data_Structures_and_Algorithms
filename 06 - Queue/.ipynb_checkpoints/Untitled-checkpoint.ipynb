{
 "cells": [
  {
   "cell_type": "code",
   "execution_count": 1,
   "id": "4fe3f1af",
   "metadata": {},
   "outputs": [],
   "source": [
    "import numpy as np \n",
    "\n",
    "class Fila_Circular:\n",
    "    def __init__(self, capacidade):\n",
    "        self.capacidade = capacidade\n",
    "        self.inicio = 0 # Variável que guarda o indice do primeiro elemento da fila\n",
    "        self.final = -1 # Variável que guarda o indice final elemento da fila\n",
    "        self.numero_elementos = 0 # Numero de elementos na fila\n",
    "        self.fila = np.empty(self.capacidade, dtype = int)\n",
    "\n",
    "    # Função que verifica se a fila está vazia\n",
    "    def _fila_vazia(self): \n",
    "        return self.numero_elementos == 0 \n",
    "\n",
    "    # Função que verifica se a fila está cheia\n",
    "    def _fila_cheia(self):\n",
    "        return self.numero_elementos == self.capacidade\n",
    "\n",
    "    # Função que enfileira os elementos na fila\n",
    "    def enfileirar(self, valor_a_enfileirar):\n",
    "        if self._fila_cheia():\n",
    "            print(\"Fila está cheia\")\n",
    "            return -1\n",
    "\n",
    "        if self.final == self.capacidade -1:\n",
    "            self.final = -1\n",
    "\n",
    "        self.final += 1\n",
    "        self.fila[self.final] = valor_a_enfileirar\n",
    "        self.numero_elementos += 1\n",
    "\n",
    "    def desenfileirar(self):\n",
    "        if self._fila_vazia():\n",
    "            print(\"A fila está vazia\")\n",
    "            return\n",
    "        \n",
    "        temp = self.fila[self.inicio] # Variável para retornar o valor que será desenfilerado\n",
    "        self.fila += 1\n",
    "        \n",
    "        if self.inicio == self.capacidade:\n",
    "            self.inicio = 0\n",
    "        \n",
    "        self.numero_elementos -= 1\n",
    "        return temp\n",
    "\n",
    "    def primeiro_elemento(self):\n",
    "        if self._fila_vazia():\n",
    "            print(\"Fila está Vazia\")\n",
    "            return -1\n",
    "        return self.fila[self.inicio]"
   ]
  },
  {
   "cell_type": "code",
   "execution_count": 3,
   "id": "d4a4e8ee",
   "metadata": {},
   "outputs": [],
   "source": [
    "fila = Fila_Circular(5)"
   ]
  },
  {
   "cell_type": "code",
   "execution_count": 4,
   "id": "7884693f",
   "metadata": {},
   "outputs": [],
   "source": [
    "fila.enfileirar(1)\n",
    "fila.enfileirar(2)\n",
    "fila.enfileirar(3)"
   ]
  },
  {
   "cell_type": "code",
   "execution_count": 6,
   "id": "81ce2869",
   "metadata": {},
   "outputs": [
    {
     "data": {
      "text/plain": [
       "1"
      ]
     },
     "execution_count": 6,
     "metadata": {},
     "output_type": "execute_result"
    }
   ],
   "source": [
    "fila.primeiro_elemento()"
   ]
  },
  {
   "cell_type": "code",
   "execution_count": null,
   "id": "1ae6ed36",
   "metadata": {},
   "outputs": [],
   "source": []
  }
 ],
 "metadata": {
  "kernelspec": {
   "display_name": "Python 3 (ipykernel)",
   "language": "python",
   "name": "python3"
  },
  "language_info": {
   "codemirror_mode": {
    "name": "ipython",
    "version": 3
   },
   "file_extension": ".py",
   "mimetype": "text/x-python",
   "name": "python",
   "nbconvert_exporter": "python",
   "pygments_lexer": "ipython3",
   "version": "3.9.7"
  }
 },
 "nbformat": 4,
 "nbformat_minor": 5
}
